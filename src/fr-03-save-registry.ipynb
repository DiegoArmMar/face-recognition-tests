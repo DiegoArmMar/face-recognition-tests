{
 "cells": [
  {
   "cell_type": "code",
   "execution_count": 5,
   "metadata": {
    "scrolled": false
   },
   "outputs": [],
   "source": [
    "import detector as dt\n",
    "import numpy as np"
   ]
  },
  {
   "cell_type": "code",
   "execution_count": 6,
   "metadata": {},
   "outputs": [],
   "source": [
    "photos_for_training = ['fm_01.jpg', 'fm_02.jpg']"
   ]
  },
  {
   "cell_type": "code",
   "execution_count": 7,
   "metadata": {},
   "outputs": [
    {
     "name": "stdout",
     "output_type": "stream",
     "text": [
      "No descriptor for photo fm_02.jpg\n",
      "[[ -6.78215474e-02   4.92117666e-02   6.81074262e-02  -1.22834869e-01\n",
      "   -1.42306864e-01   2.61323545e-02   3.81767265e-02  -6.90151379e-02\n",
      "    2.26489410e-01  -9.20681581e-02   1.45333588e-01  -1.07603543e-01\n",
      "   -2.33307004e-01  -5.00258245e-02   3.69227976e-02   1.18554950e-01\n",
      "   -1.17573835e-01  -1.70114934e-01  -9.03371722e-02  -1.37035832e-01\n",
      "    5.47734741e-03   1.72518864e-02  -2.32173260e-02   1.46590583e-02\n",
      "   -9.29469317e-02  -3.45476568e-01  -6.14997447e-02  -1.45566031e-01\n",
      "   -2.07518041e-03  -1.28936723e-01   3.67896445e-02   3.44418548e-03\n",
      "   -1.21810071e-01  -4.90957052e-02  -3.40264365e-02   3.35272178e-02\n",
      "   -1.58181876e-01  -1.41461775e-01   2.13226065e-01   4.83823195e-03\n",
      "   -1.51785508e-01  -1.31284874e-02   6.48484156e-02   2.57104576e-01\n",
      "    1.56419441e-01   6.08526170e-06  -1.99602786e-02  -3.02009825e-02\n",
      "    1.79193899e-01  -2.98052400e-01   1.39449671e-01   1.59233138e-01\n",
      "    1.05760075e-01   8.75028148e-02   1.90662473e-01  -6.75051808e-02\n",
      "    4.89096008e-02   5.91047108e-02  -2.36974150e-01   7.11360425e-02\n",
      "    1.39873087e-01  -3.67906839e-02  -7.49362037e-02  -1.29941463e-01\n",
      "    1.93560451e-01   1.82758078e-01  -6.02967180e-02  -9.65343714e-02\n",
      "    7.89514631e-02  -1.56397462e-01  -1.10296525e-01   6.91424124e-04\n",
      "   -1.10972404e-01  -1.09273799e-01  -2.57749379e-01   1.35515202e-02\n",
      "    3.33660990e-01   1.39152244e-01  -1.63479328e-01  -3.98782194e-02\n",
      "   -7.23998547e-02   7.60514475e-03   7.14720339e-02  -1.74672958e-02\n",
      "   -9.45372432e-02  -3.93353254e-02  -8.06979686e-02  -7.22345151e-03\n",
      "    1.37899920e-01  -5.22825643e-02  -5.33008724e-02   1.86980948e-01\n",
      "    2.17098482e-02  -5.38788214e-02   3.95540409e-02   1.09443124e-02\n",
      "   -1.03406221e-01  -4.35395613e-02  -1.09651200e-01  -3.18649001e-02\n",
      "    7.73689747e-02  -1.27298132e-01  -1.34118171e-02   3.68831716e-02\n",
      "   -2.56922007e-01   2.15160325e-01   1.65809039e-02  -2.34267227e-02\n",
      "   -2.12903041e-02  -2.65617464e-02  -1.29956171e-01   3.88956517e-02\n",
      "    1.85861424e-01  -2.28266150e-01   1.55204386e-01   1.05414897e-01\n",
      "    1.19853280e-02   1.42435491e-01   8.94979481e-03   4.40384820e-02\n",
      "   -9.78649855e-02  -3.09821926e-02  -1.12223811e-01  -9.99759287e-02\n",
      "   -4.83694300e-03   1.02708079e-01   1.65654570e-02   1.12976700e-01]]\n"
     ]
    }
   ],
   "source": [
    "descriptors = None\n",
    "\n",
    "for photo in photos_for_training:\n",
    "    descriptor = dt.get_face_descriptor(photo)\n",
    "    \n",
    "    if descriptor is None:\n",
    "        print(\"No descriptor for photo\", photo)\n",
    "    elif descriptors is None:\n",
    "        descriptors = descriptor\n",
    "    else:\n",
    "        descriptors = np.concatenate((descriptors, descriptors), axis=0)\n",
    "\n",
    "print(descriptors)"
   ]
  },
  {
   "cell_type": "code",
   "execution_count": 8,
   "metadata": {},
   "outputs": [],
   "source": [
    "np.save('../registers/fm.npy', descriptors)"
   ]
  },
  {
   "cell_type": "code",
   "execution_count": null,
   "metadata": {},
   "outputs": [],
   "source": []
  }
 ],
 "metadata": {
  "kernelspec": {
   "display_name": "Python 3",
   "language": "python",
   "name": "python3"
  },
  "language_info": {
   "codemirror_mode": {
    "name": "ipython",
    "version": 3
   },
   "file_extension": ".py",
   "mimetype": "text/x-python",
   "name": "python",
   "nbconvert_exporter": "python",
   "pygments_lexer": "ipython3",
   "version": "3.6.7"
  }
 },
 "nbformat": 4,
 "nbformat_minor": 2
}

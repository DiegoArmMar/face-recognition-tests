{
 "cells": [
  {
   "cell_type": "code",
   "execution_count": 1,
   "metadata": {
    "scrolled": false
   },
   "outputs": [],
   "source": [
    "import dlib\n",
    "import cv2\n",
    "import utils as u"
   ]
  },
  {
   "cell_type": "code",
   "execution_count": 2,
   "metadata": {},
   "outputs": [],
   "source": [
    "photo_path = '../resources/images/av_02.jpg'\n",
    "predictor_path = '../resources/models/shape_predictor_68_face_landmarks.dat'\n",
    "image_scale = 1"
   ]
  },
  {
   "cell_type": "code",
   "execution_count": 3,
   "metadata": {},
   "outputs": [],
   "source": [
    "photo = cv2.imread(photo_path)\n",
    "u.print_photo(photo)"
   ]
  },
  {
   "cell_type": "code",
   "execution_count": 4,
   "metadata": {},
   "outputs": [],
   "source": [
    "face_detector = dlib.get_frontal_face_detector()"
   ]
  },
  {
   "cell_type": "code",
   "execution_count": 5,
   "metadata": {},
   "outputs": [
    {
     "name": "stdout",
     "output_type": "stream",
     "text": [
      "<dlib.rectangles object at 0x000002EB5A79FE70>\n"
     ]
    }
   ],
   "source": [
    "detected_faces = face_detector(photo, image_scale)\n",
    "print(detected_faces)\n",
    "u.put_bounding_boxes(photo, detected_faces)\n",
    "u.print_photo(photo)"
   ]
  },
  {
   "cell_type": "code",
   "execution_count": 6,
   "metadata": {},
   "outputs": [],
   "source": [
    "points_detector = dlib.shape_predictor(predictor_path)"
   ]
  },
  {
   "cell_type": "code",
   "execution_count": 7,
   "metadata": {},
   "outputs": [
    {
     "name": "stdout",
     "output_type": "stream",
     "text": [
      "detected points = 68\n",
      "<dlib.points object at 0x000002EB5D787C90>\n",
      "detected points = 68\n",
      "<dlib.points object at 0x000002EB5D787B10>\n",
      "detected points = 68\n",
      "<dlib.points object at 0x000002EB5D787D50>\n",
      "detected points = 68\n",
      "<dlib.points object at 0x000002EB5D787E10>\n",
      "detected points = 68\n",
      "<dlib.points object at 0x000002EB5D787E70>\n"
     ]
    }
   ],
   "source": [
    "for face in detected_faces:\n",
    "    points = points_detector(photo, face)\n",
    "    print('detected points =', len(points.parts()))\n",
    "    print(points.parts())\n",
    "    u.put_points(photo, points)\n",
    "\n",
    "u.print_photo(photo)"
   ]
  },
  {
   "cell_type": "code",
   "execution_count": null,
   "metadata": {},
   "outputs": [],
   "source": []
  }
 ],
 "metadata": {
  "kernelspec": {
   "display_name": "Python 3",
   "language": "python",
   "name": "python3"
  },
  "language_info": {
   "codemirror_mode": {
    "name": "ipython",
    "version": 3
   },
   "file_extension": ".py",
   "mimetype": "text/x-python",
   "name": "python",
   "nbconvert_exporter": "python",
   "pygments_lexer": "ipython3",
   "version": "3.6.7"
  }
 },
 "nbformat": 4,
 "nbformat_minor": 2
}

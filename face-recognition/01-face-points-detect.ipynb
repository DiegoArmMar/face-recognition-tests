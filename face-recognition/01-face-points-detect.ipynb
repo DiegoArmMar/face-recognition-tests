{
 "cells": [
  {
   "cell_type": "code",
   "execution_count": 1,
   "metadata": {},
   "outputs": [],
   "source": [
    "import dlib\n",
    "import cv2\n",
    "import utils as u"
   ]
  },
  {
   "cell_type": "code",
   "execution_count": 2,
   "metadata": {},
   "outputs": [],
   "source": [
    "photo_path = '../images/ss01.jpg'\n",
    "predictor_path = '../models/shape_predictor_68_face_landmarks.dat'\n",
    "image_scale = 1"
   ]
  },
  {
   "cell_type": "code",
   "execution_count": 3,
   "metadata": {},
   "outputs": [],
   "source": [
    "photo = cv2.imread(photo_path)\n",
    "u.print_photo(photo)"
   ]
  },
  {
   "cell_type": "code",
   "execution_count": 4,
   "metadata": {},
   "outputs": [],
   "source": [
    "face_detector = dlib.get_frontal_face_detector()"
   ]
  },
  {
   "cell_type": "code",
   "execution_count": 5,
   "metadata": {},
   "outputs": [
    {
     "name": "stdout",
     "output_type": "stream",
     "text": [
      "rectangles[[(325, 53) (454, 182)]]\n"
     ]
    }
   ],
   "source": [
    "detected_faces = face_detector(photo, image_scale)\n",
    "print(detected_faces)"
   ]
  },
  {
   "cell_type": "code",
   "execution_count": 6,
   "metadata": {},
   "outputs": [],
   "source": [
    "points_detector = dlib.shape_predictor(predictor_path)"
   ]
  },
  {
   "cell_type": "code",
   "execution_count": null,
   "metadata": {},
   "outputs": [
    {
     "name": "stdout",
     "output_type": "stream",
     "text": [
      "detected points = 68\n",
      "points[(347, 110), (349, 123), (352, 137), (356, 151), (361, 164), (371, 175), (381, 186), (392, 194), (406, 195), (420, 191), (433, 181), (444, 169), (452, 155), (457, 141), (459, 125), (458, 110), (457, 95), (352, 102), (357, 97), (364, 96), (372, 97), (379, 100), (398, 97), (406, 92), (415, 88), (424, 88), (433, 91), (389, 106), (390, 115), (390, 124), (391, 132), (382, 139), (387, 140), (393, 142), (399, 139), (405, 137), (362, 110), (367, 108), (373, 108), (378, 110), (373, 112), (367, 112), (406, 106), (411, 103), (417, 102), (423, 103), (419, 106), (413, 107), (373, 155), (380, 152), (388, 150), (395, 150), (402, 148), (414, 148), (425, 148), (417, 165), (406, 173), (398, 174), (391, 174), (381, 169), (375, 156), (389, 155), (396, 154), (403, 153), (422, 150), (404, 163), (397, 165), (390, 164)]\n"
     ]
    }
   ],
   "source": [
    "for face in detected_faces:\n",
    "    points = points_detector(photo, face)\n",
    "    print('detected points =', len(points.parts()))\n",
    "    print(points.parts())\n",
    "    u.put_points(photo, points)\n",
    "\n",
    "u.print_photo(photo)"
   ]
  },
  {
   "cell_type": "code",
   "execution_count": null,
   "metadata": {},
   "outputs": [],
   "source": []
  }
 ],
 "metadata": {
  "kernelspec": {
   "display_name": "Python 3",
   "language": "python",
   "name": "python3"
  },
  "language_info": {
   "codemirror_mode": {
    "name": "ipython",
    "version": 3
   },
   "file_extension": ".py",
   "mimetype": "text/x-python",
   "name": "python",
   "nbconvert_exporter": "python",
   "pygments_lexer": "ipython3",
   "version": "3.6.8"
  }
 },
 "nbformat": 4,
 "nbformat_minor": 2
}
